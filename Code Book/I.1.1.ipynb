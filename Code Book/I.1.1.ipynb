{
 "cells": [
  {
   "cell_type": "code",
   "execution_count": 3,
   "metadata": {},
   "outputs": [
    {
     "name": "stdout",
     "output_type": "stream",
     "text": [
      "1.0\n",
      "[ 0.87287156+0.43643578j -0.13093073+0.17457431j]\n"
     ]
    },
    {
     "name": "stderr",
     "output_type": "stream",
     "text": [
      "/tmp/ipykernel_838009/249834132.py:44: ComplexWarning: Casting complex values to real discards the imaginary part\n",
      "  squ = float(a_s + b_s)\n"
     ]
    }
   ],
   "source": [
    "import pennylane as qml\n",
    "from pennylane import numpy as np\n",
    "\n",
    "# Here are the vector representations of |0> and |1>, for convenience\n",
    "ket_0 = np.array([1, 0])\n",
    "ket_1 = np.array([0, 1])\n",
    "\n",
    "def normalize_state(alpha, beta):\n",
    "    \"\"\"Compute a normalized quantum state given arbitrary amplitudes.\n",
    "    \n",
    "    Args:\n",
    "        alpha (complex): The amplitude associated with the |0> state.\n",
    "        beta (complex): The amplitude associated with the |1> state.\n",
    "        \n",
    "    Returns:\n",
    "        array[complex]: A vector (numpy array) with 2 elements that represents\n",
    "        a normalized quantum state.\n",
    "    \"\"\"\n",
    "\n",
    "    alpha_conj = np.conj(alpha)\n",
    "    beta_conj = np.conj(beta)\n",
    "\n",
    "    alpha_squared = alpha * alpha_conj\n",
    "    beta_squared = beta * beta_conj\n",
    "\n",
    "    sum = alpha_squared + beta_squared\n",
    "\n",
    "    factor = np.sqrt(sum)\n",
    "\n",
    "    alpha_normalized = alpha / factor\n",
    "    beta_normalized = beta / factor\n",
    "\n",
    "    return np.array([alpha_normalized, beta_normalized])\n",
    "\n",
    "#Testing:\n",
    "alpha = 2.0 + 1.0j\n",
    "beta = -0.3 + 0.4j\n",
    "\n",
    "print(normalize_state(alpha, beta))\n",
    "#should be: np.array([ 0.87287156+0.43643578j, -0.13093073+0.17457431j])"
   ]
  }
 ],
 "metadata": {
  "interpreter": {
   "hash": "916dbcbb3f70747c44a77c7bcd40155683ae19c65e1c03b4aa3499c5328201f1"
  },
  "kernelspec": {
   "display_name": "Python 3.8.10 64-bit",
   "language": "python",
   "name": "python3"
  },
  "language_info": {
   "codemirror_mode": {
    "name": "ipython",
    "version": 3
   },
   "file_extension": ".py",
   "mimetype": "text/x-python",
   "name": "python",
   "nbconvert_exporter": "python",
   "pygments_lexer": "ipython3",
   "version": "3.8.10"
  },
  "orig_nbformat": 4
 },
 "nbformat": 4,
 "nbformat_minor": 2
}

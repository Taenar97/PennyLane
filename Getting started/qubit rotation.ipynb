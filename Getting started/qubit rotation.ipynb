{
 "cells": [
  {
   "cell_type": "markdown",
   "metadata": {},
   "source": [
    "# PennyLane: Getting started  \n",
    "## Basic tutorial: qubit rotation  \n",
    "**Autor:** Sven Nivera  \n",
    "**Date:** 02.05.2022  \n",
    "**Version:** 1.0.0  \n",
    "**Source:** pennylane.ai\n"
   ]
  },
  {
   "cell_type": "markdown",
   "metadata": {},
   "source": [
    "First of all the library **PennyLane** has to be importet and for convenience be named qml. Furthermore the special quantum optimized version of NumPy is importet. Normal NumPy does not provide all the necessary functionalities needed."
   ]
  },
  {
   "cell_type": "code",
   "execution_count": 2,
   "metadata": {},
   "outputs": [],
   "source": [
    "import pennylane as qml\n",
    "from pennylane import numpy as np"
   ]
  },
  {
   "cell_type": "markdown",
   "metadata": {},
   "source": [
    "A quantum device gets created based on the 'pure-state qubit simulator' provided by PennyLane 'default.qubit'. The device gets only one qubit assigned  'wires=1'. The term wires is used in reference to the well known composer paradigma. Every qubit has its own line on which the gates will be apllied."
   ]
  },
  {
   "cell_type": "code",
   "execution_count": 3,
   "metadata": {},
   "outputs": [],
   "source": [
    "dev1 = qml.device(\"default.qubit\", wires=1)"
   ]
  },
  {
   "cell_type": "markdown",
   "metadata": {},
   "source": [
    "A QNode will be created which encapsulates a quantum function (circuit). To make the QNode run on dev1 the **'@qml.qnode(dev1)'** decorator is added directly above.  \n",
    "Any line inside the function must contain an operation (gate) and specify on which lines (qubits) it is applied.  \n",
    "Full List of operations: https://pennylane.readthedocs.io/en/latest/introduction/operations.html  \n",
    "  \n",
    "The return value must always be a single or a tuple of measured observables.  \n",
    "Full List of observables: https://pennylane.readthedocs.io/en/latest/introduction/measurements.html  \n",
    "\n",
    "__Note:__ Not all devices support all available operations!"
   ]
  },
  {
   "cell_type": "code",
   "execution_count": 4,
   "metadata": {},
   "outputs": [],
   "source": [
    "@qml.qnode(dev1)\n",
    "def circuit(params):\n",
    "    qml.RX(params[0], wires=0)\n",
    "    qml.RY(params[1], wires=0)\n",
    "    return qml.expval(qml.PauliZ(0))"
   ]
  },
  {
   "cell_type": "markdown",
   "metadata": {},
   "source": [
    "To let the function evaluate on device 1 it must be called like any other function."
   ]
  },
  {
   "cell_type": "code",
   "execution_count": 5,
   "metadata": {},
   "outputs": [
    {
     "name": "stdout",
     "output_type": "stream",
     "text": [
      "1.0\n"
     ]
    }
   ],
   "source": [
    "print(circuit([0, 0]))"
   ]
  },
  {
   "cell_type": "markdown",
   "metadata": {},
   "source": [
    "**Calculating Quantum Gradients**  \n",
    "The function 'grad()' is used to differentiate the encapsulated quantum function and gives back the gradient of the function.  \n",
    "The return value is a function itself. In this specific case a 2D-vector.\n",
    "\n",
    "Using grad() can be a bit tricky due to the argnum parameter."
   ]
  },
  {
   "cell_type": "code",
   "execution_count": 7,
   "metadata": {},
   "outputs": [
    {
     "name": "stdout",
     "output_type": "stream",
     "text": [
      "[array(-0.51043865), array(-0.1026782)]\n"
     ]
    }
   ],
   "source": [
    "dcircuit = qml.grad(circuit, argnum=0)\n",
    "\n",
    "print(dcircuit([0.54, 0.12]))"
   ]
  }
 ],
 "metadata": {
  "interpreter": {
   "hash": "916dbcbb3f70747c44a77c7bcd40155683ae19c65e1c03b4aa3499c5328201f1"
  },
  "kernelspec": {
   "display_name": "Python 3.8.10 64-bit",
   "language": "python",
   "name": "python3"
  },
  "language_info": {
   "codemirror_mode": {
    "name": "ipython",
    "version": 3
   },
   "file_extension": ".py",
   "mimetype": "text/x-python",
   "name": "python",
   "nbconvert_exporter": "python",
   "pygments_lexer": "ipython3",
   "version": "3.8.10"
  },
  "orig_nbformat": 4
 },
 "nbformat": 4,
 "nbformat_minor": 2
}

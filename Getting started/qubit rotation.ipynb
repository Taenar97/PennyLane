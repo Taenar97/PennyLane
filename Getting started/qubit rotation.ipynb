{
 "cells": [
  {
   "cell_type": "markdown",
   "metadata": {},
   "source": [
    "# PennyLane: Getting started  \n",
    "## Basic tutorial: qubit rotation  \n",
    "**Autor:** Sven Nivera  \n",
    "**Date:** 02.05.2022  \n",
    "**Version:** 1.0.0  \n",
    "**Source:** pennylane.ai\n"
   ]
  },
  {
   "cell_type": "markdown",
   "metadata": {},
   "source": [
    "First of all the library **PennyLane** has to be importet and for convenience be named qml. Furthermore the special quantum optimized version of NumPy is importet. Normal NumPy does not provide all the necessary functionalities needed."
   ]
  },
  {
   "cell_type": "code",
   "execution_count": 1,
   "metadata": {},
   "outputs": [],
   "source": [
    "import pennylane as qml\n",
    "from pennylane import numpy as np"
   ]
  },
  {
   "cell_type": "markdown",
   "metadata": {},
   "source": [
    "A quantum device gets created based on the pure-state qubit simulator provided by PennyLane 'default.qubit'. The device gets only one qubit assigned  'wires=1'. The term wires is used in reference to the well known qiskit paradigma. Every qubit has its own line on which the gates will be apllied."
   ]
  },
  {
   "cell_type": "code",
   "execution_count": 2,
   "metadata": {},
   "outputs": [],
   "source": [
    "dev1 = qml.device(\"default.qubit\", wires=1)"
   ]
  },
  {
   "cell_type": "markdown",
   "metadata": {},
   "source": [
    "A QNode will be created which encapsulates a quantum function (circuit). To make the QNode run on dev1 the **'@qml.qnode(dev1)'** decorator is added directly above. Any line inside the function must contain an operation (gate) and specify on which line it has to be applied. The return value must be always be a single or a tuple of measured observables."
   ]
  },
  {
   "cell_type": "code",
   "execution_count": 3,
   "metadata": {},
   "outputs": [],
   "source": [
    "@qml.qnode(dev1)\n",
    "def circuit(params):\n",
    "    qml.RX(params[0], wires=0)\n",
    "    qml.RY(params[1], wires=0)\n",
    "    return qml.expval(qml.PauliZ(0))"
   ]
  },
  {
   "cell_type": "markdown",
   "metadata": {},
   "source": [
    "To let the function evaluate on device 1 it must be called like any other function."
   ]
  },
  {
   "cell_type": "code",
   "execution_count": 4,
   "metadata": {},
   "outputs": [
    {
     "name": "stdout",
     "output_type": "stream",
     "text": [
      "0.8515405859048367\n"
     ]
    }
   ],
   "source": [
    "print(circuit([0.54, 0.12]))"
   ]
  }
 ],
 "metadata": {
  "interpreter": {
   "hash": "c9a1e97689260f3c5e0ff2b6622a486050f1624a472f7dd78e134ded92b0ad4f"
  },
  "kernelspec": {
   "display_name": "Python 3.10.4 64-bit (windows store)",
   "language": "python",
   "name": "python3"
  },
  "language_info": {
   "codemirror_mode": {
    "name": "ipython",
    "version": 3
   },
   "file_extension": ".py",
   "mimetype": "text/x-python",
   "name": "python",
   "nbconvert_exporter": "python",
   "pygments_lexer": "ipython3",
   "version": "3.10.4"
  },
  "orig_nbformat": 4
 },
 "nbformat": 4,
 "nbformat_minor": 2
}

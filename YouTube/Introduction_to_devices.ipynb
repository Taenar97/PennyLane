{
 "cells": [
  {
   "cell_type": "markdown",
   "metadata": {},
   "source": [
    "# PennyLane YouTube Channel \n",
    "## III: Introduction to PennyLane Devices  \n",
    "**Autor:** Sven Nivera  \n",
    "**Date:** 13.06.2022  \n",
    "**Version:** 1.0.0  \n",
    "**Source:** https://www.youtube.com/watch?v=eRBk1_qA86Y\n"
   ]
  },
  {
   "cell_type": "code",
   "execution_count": 5,
   "metadata": {},
   "outputs": [],
   "source": [
    "import pennylane as qml"
   ]
  },
  {
   "cell_type": "markdown",
   "metadata": {},
   "source": [
    "More info on devices:  \n",
    "https://pennylane.ai/plugins.html (Build-in simulators & external devices)\n"
   ]
  },
  {
   "cell_type": "code",
   "execution_count": 6,
   "metadata": {},
   "outputs": [],
   "source": [
    "dev = qml.device(\"default.qubit\", wires = 1) #Python backend\n",
    "dev_2 = qml.device(\"lightning.qubit\", wires = 1) #C++ backend (faster)\n",
    "dev_3 = qml.device(\"default.mixed\", wires = 1) #Mixed state support\n",
    "dev_4 = qml.device(\"default.gaussian\", wires = 1) #Photonic QC support"
   ]
  },
  {
   "cell_type": "code",
   "execution_count": 7,
   "metadata": {},
   "outputs": [
    {
     "data": {
      "text/plain": [
       "tensor([0.5, 0.5], requires_grad=True)"
      ]
     },
     "execution_count": 7,
     "metadata": {},
     "output_type": "execute_result"
    }
   ],
   "source": [
    "@qml.qnode(dev)\n",
    "def circuit():\n",
    "    qml.Hadamard(wires = 0)\n",
    "    return qml.probs(wires = 0)\n",
    "\n",
    "circuit()"
   ]
  },
  {
   "cell_type": "code",
   "execution_count": 8,
   "metadata": {},
   "outputs": [
    {
     "data": {
      "text/plain": [
       "tensor([0.5, 0.5], requires_grad=True)"
      ]
     },
     "execution_count": 8,
     "metadata": {},
     "output_type": "execute_result"
    }
   ],
   "source": [
    "@qml.qnode(dev_3)\n",
    "def circuit_2():\n",
    "    qml.BitFlip(0.5, wires = 0)\n",
    "    return qml.probs(wires = 0)\n",
    "\n",
    "circuit_2()"
   ]
  }
 ],
 "metadata": {
  "interpreter": {
   "hash": "916dbcbb3f70747c44a77c7bcd40155683ae19c65e1c03b4aa3499c5328201f1"
  },
  "kernelspec": {
   "display_name": "Python 3.8.10 64-bit",
   "language": "python",
   "name": "python3"
  },
  "language_info": {
   "codemirror_mode": {
    "name": "ipython",
    "version": 3
   },
   "file_extension": ".py",
   "mimetype": "text/x-python",
   "name": "python",
   "nbconvert_exporter": "python",
   "pygments_lexer": "ipython3",
   "version": "3.8.10"
  },
  "orig_nbformat": 4
 },
 "nbformat": 4,
 "nbformat_minor": 2
}
